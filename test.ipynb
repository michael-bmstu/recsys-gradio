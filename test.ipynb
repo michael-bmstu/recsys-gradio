{
 "cells": [
  {
   "cell_type": "code",
   "execution_count": 9,
   "id": "6b32c7ca",
   "metadata": {},
   "outputs": [],
   "source": [
    "from app.utils import *\n",
    "# from app import utils"
   ]
  },
  {
   "cell_type": "code",
   "execution_count": 8,
   "id": "6724f4a6",
   "metadata": {},
   "outputs": [],
   "source": [
    "utils.first_run()"
   ]
  },
  {
   "cell_type": "code",
   "execution_count": 3,
   "id": "2d973ef4",
   "metadata": {},
   "outputs": [],
   "source": [
    "anime, ratings = prepare_data()\n",
    "m_uniq = anime['genre'].unique()\n",
    "genres = set(flatmap(genre_splitter, m_uniq))\n",
    "genres = list(genres) # всего 43 жанра\n",
    "\n",
    "anime['genres'] = anime['genre'].apply(lambda g: g.split(', '))\n",
    "one_hot_df = anime.explode('genres')\n",
    "one_hot_encoded = pd.get_dummies(one_hot_df['genres'])\n",
    "anime_genre = one_hot_encoded.groupby('anime_id').sum()\n",
    "\n",
    "df_agg = pd.merge(ratings, anime_genre, on='anime_id', how='inner')\n",
    "df_grouped = df_agg.groupby('user_id')[genres].agg(lambda x: get_mean_genre(df_agg, x))\n",
    "mean_rating = df_grouped[genres].mean()"
   ]
  },
  {
   "cell_type": "code",
   "execution_count": 4,
   "id": "925ea86f",
   "metadata": {},
   "outputs": [],
   "source": [
    "# df_grouped[genres] = df_grouped[genres].fillna(mean_rating)\n",
    "# df_grouped.isna().sum().sum()"
   ]
  },
  {
   "cell_type": "code",
   "execution_count": 13,
   "id": "98acaf7e",
   "metadata": {},
   "outputs": [
    {
     "data": {
      "text/plain": [
       "Index(['Thriller', 'Cars', 'Josei', 'Historical', 'Mystery', 'Space', 'Music',\n",
       "       'Samurai', 'Drama', 'Military', 'Sports', 'Psychological',\n",
       "       'Slice of Life', 'Seinen', 'Parody', 'Shounen', 'Adventure',\n",
       "       'Supernatural', 'Sci-Fi', 'Action', 'Police', 'Game', 'Mecha', 'Comedy',\n",
       "       'Romance', 'Fantasy', 'Demons', 'School', 'Shoujo', 'Magic',\n",
       "       'Super Power', 'Horror', 'Martial Arts', 'Dementia', 'Kids', 'Vampire',\n",
       "       'Shoujo Ai', 'Shounen Ai', 'Harem', 'Ecchi', 'Yuri', 'Hentai', 'Yaoi'],\n",
       "      dtype='object')"
      ]
     },
     "execution_count": 13,
     "metadata": {},
     "output_type": "execute_result"
    }
   ],
   "source": [
    "mean_rating.sort_values(ascending=False).index"
   ]
  },
  {
   "cell_type": "code",
   "execution_count": null,
   "id": "18e890fb",
   "metadata": {},
   "outputs": [],
   "source": []
  }
 ],
 "metadata": {
  "kernelspec": {
   "display_name": "ml_venv",
   "language": "python",
   "name": "python3"
  },
  "language_info": {
   "codemirror_mode": {
    "name": "ipython",
    "version": 3
   },
   "file_extension": ".py",
   "mimetype": "text/x-python",
   "name": "python",
   "nbconvert_exporter": "python",
   "pygments_lexer": "ipython3",
   "version": "3.12.2"
  }
 },
 "nbformat": 4,
 "nbformat_minor": 5
}
